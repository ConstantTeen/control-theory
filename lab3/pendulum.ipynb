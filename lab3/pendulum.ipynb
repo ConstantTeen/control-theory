{
 "cells": [
  {
   "cell_type": "markdown",
   "metadata": {},
   "source": [
    "## Вариант 9##\n",
    "Маятник – тело с массой 1 кг, моментом инерции относительно оси a $кг∙м^2$, центр его тяжести находится на расстоянии 5 см от оси, момент силы трения в оси пропорционален угловой скорости вращения с коэффициентом 1;\n",
    "\n",
    "$$I{d^2\\over dt^2}\\theta = mgL\\theta + M + M^{тр}$$\n",
    "$$mL^2{d^2\\over dt^2}\\theta = mgL\\theta + M + {d\\over dt}\\theta$$\n",
    "$$ (mL^2p^2+p-mgL)\\theta = M $$\n"
   ]
  },
  {
   "cell_type": "code",
   "execution_count": 62,
   "metadata": {},
   "outputs": [],
   "source": [
    "import numpy as np\n",
    "from scipy import signal\n",
    "import matplotlib.pyplot as plt"
   ]
  },
  {
   "cell_type": "code",
   "execution_count": 107,
   "metadata": {},
   "outputs": [],
   "source": [
    "m = 1\n",
    "g = 9.81\n",
    "a = 1.001/400 # a >= 1/400\n",
    "I = a\n",
    "mass_center_distance = 0.05\n",
    "L = np.sqrt(I/m)\n",
    "init_angle = np.arccos(mass_center_distance/L)"
   ]
  },
  {
   "cell_type": "code",
   "execution_count": 108,
   "metadata": {},
   "outputs": [
    {
     "data": {
      "text/plain": [
       "(1.8112480473277617, 0.05002499375312305)"
      ]
     },
     "execution_count": 108,
     "metadata": {},
     "output_type": "execute_result"
    }
   ],
   "source": [
    "init_angle*180/np.pi, L"
   ]
  },
  {
   "cell_type": "code",
   "execution_count": 120,
   "metadata": {},
   "outputs": [
    {
     "name": "stdout",
     "output_type": "stream",
     "text": [
      "TransferFunctionContinuous(\n",
      "array([399.6003996]),\n",
      "array([   1.        ,  399.6003996 , -196.10197351]),\n",
      "dt: None\n",
      ")\n"
     ]
    },
    {
     "name": "stderr",
     "output_type": "stream",
     "text": [
      "/home/konstantin/anaconda3/lib/python3.7/site-packages/ipykernel_launcher.py:3: DeprecationWarning: object of type <class 'float'> cannot be safely interpreted as an integer.\n",
      "  This is separate from the ipykernel package so we can avoid doing imports until\n"
     ]
    }
   ],
   "source": [
    "dT = 0.1\n",
    "TotalTime = 20\n",
    "Tin = np.linspace(0, TotalTime, TotalTime/dT + 1)\n",
    "sys_tf = signal.TransferFunction([1], [m*L**2, 1, -m*g*L])\n",
    "\n",
    "print(sys_tf)"
   ]
  },
  {
   "cell_type": "code",
   "execution_count": 121,
   "metadata": {},
   "outputs": [
    {
     "name": "stdout",
     "output_type": "stream",
     "text": [
      "(array([[-399.6003996 ,  196.10197351],\n",
      "       [   1.        ,    0.        ]]), array([[1.],\n",
      "       [0.]]), array([[  0.       , 399.6003996]]), array([[0.]]))\n"
     ]
    }
   ],
   "source": [
    "sys_tf = signal.tf2ss([1], [m*L**2, 1, -m*g*L])\n",
    "print(sys_tf)"
   ]
  },
  {
   "cell_type": "code",
   "execution_count": 122,
   "metadata": {},
   "outputs": [
    {
     "data": {
      "image/png": "[encoded data removed]",
      "text/plain": [
       "<Figure size 432x288 with 1 Axes>"
      ]
     },
     "metadata": {
      "needs_background": "light"
     },
     "output_type": "display_data"
    }
   ],
   "source": [
    "zero_input = np.zeros(Tin.shape) # не будем прилагать момент\n",
    "# start_pos = 1/180.0*np.pi        # начнём с позиции в 1°.\n",
    "Tout,yout,xout = signal.lsim(sys_tf, zero_input, Tin, X0=[0, init_angle/399.6])# начальная скорость нулевая, угол - start_pos\n",
    "plt.plot(Tout, yout, 'b')\n",
    "# покажем предельные допустимые отклонения красными линиями\n",
    "limit = 15 / 180.0 * np.pi\n",
    "plt.plot([0, TotalTime], [limit, limit], 'r')\n",
    "plt.plot([0, TotalTime], [-limit, -limit], 'r')\n",
    "plt.show()"
   ]
  },
  {
   "cell_type": "code",
   "execution_count": 123,
   "metadata": {},
   "outputs": [
    {
     "name": "stdout",
     "output_type": "stream",
     "text": [
      "(array([[-399.6003996 , -203.49842609,   -0.        ],\n",
      "       [   1.        ,    0.        ,    0.        ],\n",
      "       [   0.        ,    1.        ,    0.        ]]), array([[1.],\n",
      "       [0.],\n",
      "       [0.]]), array([[  0.       , 399.6003996,   0.       ]]), array([[0.]]))\n"
     ]
    }
   ],
   "source": [
    "P = 1\n",
    "I = 0\n",
    "D = 0\n",
    "PID_num = [D, P, I]\n",
    "PID_den = [1, 0]\n",
    "interm_num = np.convolve([1], PID_num)\n",
    "interm_den = np.convolve([m*L**2, 1, -m*g*L], PID_den)\n",
    "total_sys = signal.tf2ss(interm_num, np.polyadd(interm_den, interm_num))\n",
    "print(total_sys)"
   ]
  },
  {
   "cell_type": "code",
   "execution_count": 125,
   "metadata": {},
   "outputs": [
    {
     "data": {
      "image/png": "[encoded data removed]",
      "text/plain": [
       "<Figure size 432x288 with 1 Axes>"
      ]
     },
     "metadata": {
      "needs_background": "light"
     },
     "output_type": "display_data"
    }
   ],
   "source": [
    "Tout,yout,xout = signal.lsim(total_sys, \n",
    "                             zero_input, \n",
    "                             Tin, \n",
    "                             X0=[0,init_angle/399.6, 0])# начальная скорость нулевая, угол - start_pos\n",
    "plt.plot(Tout, yout, 'b')\n",
    "# покажем предельные допустимые отклонения красными линиями\n",
    "limit = 15 / 180.0 * np.pi\n",
    "plt.plot([0, TotalTime], [limit, limit], 'r')\n",
    "plt.plot([0, TotalTime], [-limit, -limit], 'r')\n",
    "plt.show()"
   ]
  }
 ],
 "metadata": {
  "kernelspec": {
   "display_name": "Python 3",
   "language": "python",
   "name": "python3"
  },
  "language_info": {
   "codemirror_mode": {
    "name": "ipython",
    "version": 3
   },
   "file_extension": ".py",
   "mimetype": "text/x-python",
   "name": "python",
   "nbconvert_exporter": "python",
   "pygments_lexer": "ipython3",
   "version": "3.7.4"
  }
 },
 "nbformat": 4,
 "nbformat_minor": 2
}
