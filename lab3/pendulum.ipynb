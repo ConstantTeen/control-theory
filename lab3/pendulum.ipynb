{
 "cells": [
  {
   "cell_type": "markdown",
   "metadata": {},
   "source": [
    "## Вариант 9##\n",
    "Маятник – тело с массой 1 кг, моментом инерции относительно оси a $кг∙м^2$, центр его тяжести находится на расстоянии 5 см от оси, момент силы трения в оси пропорционален угловой скорости вращения с коэффициентом 1;\n",
    "\n",
    "$$I{d^2\\over dt^2}\\theta = mgL\\theta + M + M^{тр}$$\n",
    "$$I = I^0+mL^2 = a$$\n",
    "$$a{d^2\\over dt^2}\\theta = mgL\\theta + M + {d\\over dt}\\theta$$\n",
    "$$ (p^2-{p\\over a}-{mgL\\over a})\\theta = {M\\over a} $$\n"
   ]
  },
  {
   "cell_type": "code",
   "execution_count": 1,
   "metadata": {},
   "outputs": [],
   "source": [
    "import numpy as np\n",
    "from scipy import signal\n",
    "import matplotlib.pyplot as plt"
   ]
  },
  {
   "cell_type": "code",
   "execution_count": 2,
   "metadata": {},
   "outputs": [],
   "source": [
    "m = 1\n",
    "g = 9.81\n",
    "a = 10\n",
    "L = 0.05"
   ]
  },
  {
   "cell_type": "code",
   "execution_count": 3,
   "metadata": {},
   "outputs": [
    {
     "name": "stderr",
     "output_type": "stream",
     "text": [
      "/home/konstantin/anaconda3/lib/python3.7/site-packages/ipykernel_launcher.py:3: DeprecationWarning: object of type <class 'float'> cannot be safely interpreted as an integer.\n",
      "  This is separate from the ipykernel package so we can avoid doing imports until\n"
     ]
    }
   ],
   "source": [
    "dT = 0.1\n",
    "TotalTime = 20\n",
    "Tin = np.linspace(0, TotalTime, TotalTime/dT + 1)\n",
    "# sys_tf = signal.TransferFunction([1/a], [1, -1/a, -m*g*L/a])\n",
    "\n",
    "# print(sys_tf)"
   ]
  },
  {
   "cell_type": "code",
   "execution_count": 4,
   "metadata": {},
   "outputs": [
    {
     "name": "stdout",
     "output_type": "stream",
     "text": [
      "(array([[0.1    , 0.04905],\n",
      "       [1.     , 0.     ]]), array([[1.],\n",
      "       [0.]]), array([[0. , 0.1]]), array([[0.]]))\n"
     ]
    }
   ],
   "source": [
    "sys_tf = signal.tf2ss([1/a], [1, -1/a, -m*g*L/a])\n",
    "print(sys_tf)\n",
    "\n",
    "factor = sys_tf[2][0,1]"
   ]
  },
  {
   "cell_type": "code",
   "execution_count": 6,
   "metadata": {},
   "outputs": [
    {
     "data": {
      "text/plain": [
       "0.1"
      ]
     },
     "execution_count": 6,
     "metadata": {},
     "output_type": "execute_result"
    }
   ],
   "source": [
    "factor"
   ]
  },
  {
   "cell_type": "code",
   "execution_count": 7,
   "metadata": {},
   "outputs": [
    {
     "data": {
      "image/png": "[encoded data removed]",
      "text/plain": [
       "<Figure size 432x288 with 1 Axes>"
      ]
     },
     "metadata": {
      "needs_background": "light"
     },
     "output_type": "display_data"
    }
   ],
   "source": [
    "zero_input = np.zeros(Tin.shape) # не будем прилагать момент\n",
    "start_pos = 1/180.0*np.pi        # начнём с позиции в 1°.\n",
    "\n",
    "Tout,yout,xout = signal.lsim(sys_tf, zero_input, Tin, X0=[0, start_pos/factor])# начальная скорость нулевая, угол - start_pos\n",
    "plt.plot(Tout, yout, 'b')\n",
    "# покажем предельные допустимые отклонения красными линиями\n",
    "limit = 15 / 180.0 * np.pi\n",
    "plt.plot([0, TotalTime], [limit, limit], 'r')\n",
    "plt.plot([0, TotalTime], [-limit, -limit], 'r')\n",
    "plt.show()"
   ]
  },
  {
   "cell_type": "code",
   "execution_count": 8,
   "metadata": {},
   "outputs": [
    {
     "name": "stdout",
     "output_type": "stream",
     "text": [
      "(array([[ -9.9    ,  -0.75095, -10.     ],\n",
      "       [  1.     ,   0.     ,   0.     ],\n",
      "       [  0.     ,   1.     ,   0.     ]]), array([[1.],\n",
      "       [0.],\n",
      "       [0.]]), array([[10. ,  0.8, 10. ]]), array([[0.]]))\n"
     ]
    }
   ],
   "source": [
    "P = 8\n",
    "I = 100\n",
    "D = 100\n",
    "PID_num = [D, P, I]\n",
    "PID_den = [1, 0]\n",
    "interm_num = np.convolve([1/a], PID_num)\n",
    "interm_den = np.convolve([1, -1/a, -m*g*L/a], PID_den)\n",
    "total_sys = signal.tf2ss(interm_num, np.polyadd(interm_den, interm_num))\n",
    "factor2 = total_sys[2][0,1]\n",
    "print(total_sys)"
   ]
  },
  {
   "cell_type": "code",
   "execution_count": 152,
   "metadata": {},
   "outputs": [
    {
     "data": {
      "text/plain": [
       "0.8"
      ]
     },
     "execution_count": 152,
     "metadata": {},
     "output_type": "execute_result"
    }
   ],
   "source": [
    "factor2"
   ]
  },
  {
   "cell_type": "markdown",
   "metadata": {},
   "source": [
    "$$ X0 = [z1,z2,z3]$$\n",
    "$${d\\over dt}z1 = z2$$\n",
    "$${d\\over dt}z2 = z3$$\n",
    "$${d\\over dt}z3 = M - Iz1-(P-mgL)z2-(D-1)z3$$\n",
    "$$\\theta = Iz1+Pz2+Dz3$$"
   ]
  },
  {
   "cell_type": "code",
   "execution_count": 11,
   "metadata": {},
   "outputs": [
    {
     "data": {
      "image/png": "[encoded data removed]",
      "text/plain": [
       "<Figure size 432x288 with 1 Axes>"
      ]
     },
     "metadata": {
      "needs_background": "light"
     },
     "output_type": "display_data"
    }
   ],
   "source": [
    "Tout,yout,xout = signal.lsim(total_sys, \n",
    "                             zero_input, \n",
    "                             Tin, \n",
    "                             X0=[0,0,start_pos/10])# начальная скорость нулевая, угол - start_pos\n",
    "plt.plot(Tout, yout, 'b')\n",
    "# покажем предельные допустимые отклонения красными линиями\n",
    "limit = 15 / 180.0 * np.pi\n",
    "plt.plot([0, TotalTime], [limit, limit], 'r')\n",
    "plt.plot([0, TotalTime], [-limit, -limit], 'r')\n",
    "plt.show()"
   ]
  },
  {
   "cell_type": "code",
   "execution_count": null,
   "metadata": {},
   "outputs": [],
   "source": []
  }
 ],
 "metadata": {
  "kernelspec": {
   "display_name": "Python 3",
   "language": "python",
   "name": "python3"
  },
  "language_info": {
   "codemirror_mode": {
    "name": "ipython",
    "version": 3
   },
   "file_extension": ".py",
   "mimetype": "text/x-python",
   "name": "python",
   "nbconvert_exporter": "python",
   "pygments_lexer": "ipython3",
   "version": "3.7.4"
  }
 },
 "nbformat": 4,
 "nbformat_minor": 2
}
